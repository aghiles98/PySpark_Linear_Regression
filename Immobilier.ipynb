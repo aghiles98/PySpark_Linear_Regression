{
 "cells": [
  {
   "cell_type": "markdown",
   "metadata": {},
   "source": [
    "# Importer les bibiothèques nécéssaires"
   ]
  },
  {
   "cell_type": "code",
   "execution_count": 1,
   "metadata": {},
   "outputs": [],
   "source": [
    "import findspark\n",
    "\n",
    "findspark.init()"
   ]
  },
  {
   "cell_type": "code",
   "execution_count": 2,
   "metadata": {},
   "outputs": [],
   "source": [
    "import seaborn as sb"
   ]
  },
  {
   "cell_type": "code",
   "execution_count": 3,
   "metadata": {},
   "outputs": [],
   "source": [
    "import pyspark\n",
    "\n",
    "from pyspark.sql import SparkSession\n",
    "\n",
    "spark = SparkSession.builder.appName('Immobilier').getOrCreate()\n",
    "\n",
    "from pyspark.ml.regression import LinearRegression"
   ]
  },
  {
   "cell_type": "markdown",
   "metadata": {},
   "source": [
    "# Importer le jeux de données\n",
    "Dans notre cas c'est l'immobilier"
   ]
  },
  {
   "cell_type": "code",
   "execution_count": 4,
   "metadata": {},
   "outputs": [
    {
     "data": {
      "text/plain": [
       "DataFrame[No: int, X1 transaction date: double, X2 house age: double, X3 distance to the nearest MRT station: double, X4 number of convenience stores: int, X5 latitude: double, X6 longitude: double, Y house price of unit area: double]"
      ]
     },
     "execution_count": 4,
     "metadata": {},
     "output_type": "execute_result"
    }
   ],
   "source": [
    "dataset = spark.read.csv(\"data/Real estate.csv\", inferSchema= True, header = True)\n",
    "\n",
    "dataset"
   ]
  },
  {
   "cell_type": "code",
   "execution_count": 5,
   "metadata": {},
   "outputs": [
    {
     "name": "stdout",
     "output_type": "stream",
     "text": [
      "+---+-------------------+------------+--------------------------------------+-------------------------------+-----------+------------+--------------------------+\n",
      "| No|X1 transaction date|X2 house age|X3 distance to the nearest MRT station|X4 number of convenience stores|X5 latitude|X6 longitude|Y house price of unit area|\n",
      "+---+-------------------+------------+--------------------------------------+-------------------------------+-----------+------------+--------------------------+\n",
      "|  1|           2012.917|        32.0|                              84.87882|                             10|   24.98298|   121.54024|                      37.9|\n",
      "|  2|           2012.917|        19.5|                              306.5947|                              9|   24.98034|   121.53951|                      42.2|\n",
      "|  3|           2013.583|        13.3|                              561.9845|                              5|   24.98746|   121.54391|                      47.3|\n",
      "|  4|             2013.5|        13.3|                              561.9845|                              5|   24.98746|   121.54391|                      54.8|\n",
      "|  5|           2012.833|         5.0|                              390.5684|                              5|   24.97937|   121.54245|                      43.1|\n",
      "|  6|           2012.667|         7.1|                               2175.03|                              3|   24.96305|   121.51254|                      32.1|\n",
      "|  7|           2012.667|        34.5|                              623.4731|                              7|   24.97933|   121.53642|                      40.3|\n",
      "|  8|           2013.417|        20.3|                              287.6025|                              6|   24.98042|   121.54228|                      46.7|\n",
      "|  9|             2013.5|        31.7|                              5512.038|                              1|   24.95095|   121.48458|                      18.8|\n",
      "| 10|           2013.417|        17.9|                               1783.18|                              3|   24.96731|   121.51486|                      22.1|\n",
      "| 11|           2013.083|        34.8|                              405.2134|                              1|   24.97349|   121.53372|                      41.4|\n",
      "| 12|           2013.333|         6.3|                              90.45606|                              9|   24.97433|    121.5431|                      58.1|\n",
      "| 13|           2012.917|        13.0|                              492.2313|                              5|   24.96515|   121.53737|                      39.3|\n",
      "| 14|           2012.667|        20.4|                              2469.645|                              4|   24.96108|   121.51046|                      23.8|\n",
      "| 15|             2013.5|        13.2|                              1164.838|                              4|   24.99156|   121.53406|                      34.3|\n",
      "| 16|           2013.583|        35.7|                              579.2083|                              2|    24.9824|   121.54619|                      50.5|\n",
      "| 17|            2013.25|         0.0|                              292.9978|                              6|   24.97744|   121.54458|                      70.1|\n",
      "| 18|            2012.75|        17.7|                              350.8515|                              1|   24.97544|   121.53119|                      37.4|\n",
      "| 19|           2013.417|        16.9|                              368.1363|                              8|    24.9675|   121.54451|                      42.3|\n",
      "| 20|           2012.667|         1.5|                              23.38284|                              7|   24.96772|   121.54102|                      47.7|\n",
      "+---+-------------------+------------+--------------------------------------+-------------------------------+-----------+------------+--------------------------+\n",
      "only showing top 20 rows\n",
      "\n"
     ]
    }
   ],
   "source": [
    "dataset.show()"
   ]
  },
  {
   "cell_type": "code",
   "execution_count": 6,
   "metadata": {},
   "outputs": [
    {
     "name": "stdout",
     "output_type": "stream",
     "text": [
      "root\n",
      " |-- No: integer (nullable = true)\n",
      " |-- X1 transaction date: double (nullable = true)\n",
      " |-- X2 house age: double (nullable = true)\n",
      " |-- X3 distance to the nearest MRT station: double (nullable = true)\n",
      " |-- X4 number of convenience stores: integer (nullable = true)\n",
      " |-- X5 latitude: double (nullable = true)\n",
      " |-- X6 longitude: double (nullable = true)\n",
      " |-- Y house price of unit area: double (nullable = true)\n",
      "\n"
     ]
    }
   ],
   "source": [
    "dataset.printSchema()"
   ]
  },
  {
   "cell_type": "markdown",
   "metadata": {},
   "source": [
    "# Le problème à résoudre est une régression linéaire multiple\n",
    "Nous allons essayer de prédire le prix du metre carré d'une maison en fonction de la date de transaction, l'age de la maison, la distance vers la station de transport la plus proche, le nombre de superettes proches, la latitude et longitude de la maison"
   ]
  },
  {
   "cell_type": "code",
   "execution_count": 7,
   "metadata": {},
   "outputs": [],
   "source": [
    "from pyspark.ml.linalg import Vectors\n",
    "from pyspark.ml.feature import VectorAssembler"
   ]
  },
  {
   "cell_type": "code",
   "execution_count": 8,
   "metadata": {},
   "outputs": [],
   "source": [
    "featureassembler=VectorAssembler(inputCols=[\"X1 transaction date\",\"X2 house age\",\n",
    "                                            \"X3 distance to the nearest MRT station\",\"X4 number of convenience stores\",\n",
    "                                            \"X5 latitude\",\"X6 longitude\"],outputCol=\"Output\")"
   ]
  },
  {
   "cell_type": "code",
   "execution_count": 9,
   "metadata": {},
   "outputs": [],
   "source": [
    "output=featureassembler.transform(dataset)"
   ]
  },
  {
   "cell_type": "code",
   "execution_count": 10,
   "metadata": {},
   "outputs": [
    {
     "name": "stdout",
     "output_type": "stream",
     "text": [
      "+---+-------------------+------------+--------------------------------------+-------------------------------+-----------+------------+--------------------------+--------------------+\n",
      "| No|X1 transaction date|X2 house age|X3 distance to the nearest MRT station|X4 number of convenience stores|X5 latitude|X6 longitude|Y house price of unit area|              Output|\n",
      "+---+-------------------+------------+--------------------------------------+-------------------------------+-----------+------------+--------------------------+--------------------+\n",
      "|  1|           2012.917|        32.0|                              84.87882|                             10|   24.98298|   121.54024|                      37.9|[2012.917,32.0,84...|\n",
      "|  2|           2012.917|        19.5|                              306.5947|                              9|   24.98034|   121.53951|                      42.2|[2012.917,19.5,30...|\n",
      "|  3|           2013.583|        13.3|                              561.9845|                              5|   24.98746|   121.54391|                      47.3|[2013.583,13.3,56...|\n",
      "|  4|             2013.5|        13.3|                              561.9845|                              5|   24.98746|   121.54391|                      54.8|[2013.5,13.3,561....|\n",
      "|  5|           2012.833|         5.0|                              390.5684|                              5|   24.97937|   121.54245|                      43.1|[2012.833,5.0,390...|\n",
      "|  6|           2012.667|         7.1|                               2175.03|                              3|   24.96305|   121.51254|                      32.1|[2012.667,7.1,217...|\n",
      "|  7|           2012.667|        34.5|                              623.4731|                              7|   24.97933|   121.53642|                      40.3|[2012.667,34.5,62...|\n",
      "|  8|           2013.417|        20.3|                              287.6025|                              6|   24.98042|   121.54228|                      46.7|[2013.417,20.3,28...|\n",
      "|  9|             2013.5|        31.7|                              5512.038|                              1|   24.95095|   121.48458|                      18.8|[2013.5,31.7,5512...|\n",
      "| 10|           2013.417|        17.9|                               1783.18|                              3|   24.96731|   121.51486|                      22.1|[2013.417,17.9,17...|\n",
      "| 11|           2013.083|        34.8|                              405.2134|                              1|   24.97349|   121.53372|                      41.4|[2013.083,34.8,40...|\n",
      "| 12|           2013.333|         6.3|                              90.45606|                              9|   24.97433|    121.5431|                      58.1|[2013.333,6.3,90....|\n",
      "| 13|           2012.917|        13.0|                              492.2313|                              5|   24.96515|   121.53737|                      39.3|[2012.917,13.0,49...|\n",
      "| 14|           2012.667|        20.4|                              2469.645|                              4|   24.96108|   121.51046|                      23.8|[2012.667,20.4,24...|\n",
      "| 15|             2013.5|        13.2|                              1164.838|                              4|   24.99156|   121.53406|                      34.3|[2013.5,13.2,1164...|\n",
      "| 16|           2013.583|        35.7|                              579.2083|                              2|    24.9824|   121.54619|                      50.5|[2013.583,35.7,57...|\n",
      "| 17|            2013.25|         0.0|                              292.9978|                              6|   24.97744|   121.54458|                      70.1|[2013.25,0.0,292....|\n",
      "| 18|            2012.75|        17.7|                              350.8515|                              1|   24.97544|   121.53119|                      37.4|[2012.75,17.7,350...|\n",
      "| 19|           2013.417|        16.9|                              368.1363|                              8|    24.9675|   121.54451|                      42.3|[2013.417,16.9,36...|\n",
      "| 20|           2012.667|         1.5|                              23.38284|                              7|   24.96772|   121.54102|                      47.7|[2012.667,1.5,23....|\n",
      "+---+-------------------+------------+--------------------------------------+-------------------------------+-----------+------------+--------------------------+--------------------+\n",
      "only showing top 20 rows\n",
      "\n"
     ]
    }
   ],
   "source": [
    "output.show()"
   ]
  },
  {
   "cell_type": "code",
   "execution_count": 11,
   "metadata": {},
   "outputs": [
    {
     "name": "stdout",
     "output_type": "stream",
     "text": [
      "+--------------------+\n",
      "|              Output|\n",
      "+--------------------+\n",
      "|[2012.917,32.0,84...|\n",
      "|[2012.917,19.5,30...|\n",
      "|[2013.583,13.3,56...|\n",
      "|[2013.5,13.3,561....|\n",
      "|[2012.833,5.0,390...|\n",
      "|[2012.667,7.1,217...|\n",
      "|[2012.667,34.5,62...|\n",
      "|[2013.417,20.3,28...|\n",
      "|[2013.5,31.7,5512...|\n",
      "|[2013.417,17.9,17...|\n",
      "|[2013.083,34.8,40...|\n",
      "|[2013.333,6.3,90....|\n",
      "|[2012.917,13.0,49...|\n",
      "|[2012.667,20.4,24...|\n",
      "|[2013.5,13.2,1164...|\n",
      "|[2013.583,35.7,57...|\n",
      "|[2013.25,0.0,292....|\n",
      "|[2012.75,17.7,350...|\n",
      "|[2013.417,16.9,36...|\n",
      "|[2012.667,1.5,23....|\n",
      "+--------------------+\n",
      "only showing top 20 rows\n",
      "\n"
     ]
    }
   ],
   "source": [
    "output.select(\"Output\").show()"
   ]
  },
  {
   "cell_type": "code",
   "execution_count": 12,
   "metadata": {},
   "outputs": [
    {
     "data": {
      "text/plain": [
       "['No',\n",
       " 'X1 transaction date',\n",
       " 'X2 house age',\n",
       " 'X3 distance to the nearest MRT station',\n",
       " 'X4 number of convenience stores',\n",
       " 'X5 latitude',\n",
       " 'X6 longitude',\n",
       " 'Y house price of unit area',\n",
       " 'Output']"
      ]
     },
     "execution_count": 12,
     "metadata": {},
     "output_type": "execute_result"
    }
   ],
   "source": [
    "output.columns"
   ]
  },
  {
   "cell_type": "code",
   "execution_count": 13,
   "metadata": {},
   "outputs": [],
   "source": [
    "finalized_data=output.select(\"Output\",\"Y house price of unit area\")"
   ]
  },
  {
   "cell_type": "code",
   "execution_count": 14,
   "metadata": {},
   "outputs": [
    {
     "name": "stdout",
     "output_type": "stream",
     "text": [
      "+--------------------+--------------------------+\n",
      "|              Output|Y house price of unit area|\n",
      "+--------------------+--------------------------+\n",
      "|[2012.917,32.0,84...|                      37.9|\n",
      "|[2012.917,19.5,30...|                      42.2|\n",
      "|[2013.583,13.3,56...|                      47.3|\n",
      "|[2013.5,13.3,561....|                      54.8|\n",
      "|[2012.833,5.0,390...|                      43.1|\n",
      "|[2012.667,7.1,217...|                      32.1|\n",
      "|[2012.667,34.5,62...|                      40.3|\n",
      "|[2013.417,20.3,28...|                      46.7|\n",
      "|[2013.5,31.7,5512...|                      18.8|\n",
      "|[2013.417,17.9,17...|                      22.1|\n",
      "|[2013.083,34.8,40...|                      41.4|\n",
      "|[2013.333,6.3,90....|                      58.1|\n",
      "|[2012.917,13.0,49...|                      39.3|\n",
      "|[2012.667,20.4,24...|                      23.8|\n",
      "|[2013.5,13.2,1164...|                      34.3|\n",
      "|[2013.583,35.7,57...|                      50.5|\n",
      "|[2013.25,0.0,292....|                      70.1|\n",
      "|[2012.75,17.7,350...|                      37.4|\n",
      "|[2013.417,16.9,36...|                      42.3|\n",
      "|[2012.667,1.5,23....|                      47.7|\n",
      "+--------------------+--------------------------+\n",
      "only showing top 20 rows\n",
      "\n"
     ]
    }
   ],
   "source": [
    "finalized_data.show()"
   ]
  },
  {
   "cell_type": "markdown",
   "metadata": {},
   "source": [
    "# Nous allons diviser nos données\n",
    "70% pour l'entrainement du model et 30% pour le test du model"
   ]
  },
  {
   "cell_type": "code",
   "execution_count": 15,
   "metadata": {},
   "outputs": [],
   "source": [
    "train_data,test_data=finalized_data.randomSplit([0.7,0.3])"
   ]
  },
  {
   "cell_type": "code",
   "execution_count": 16,
   "metadata": {},
   "outputs": [],
   "source": [
    "regressor=LinearRegression(featuresCol='Output', labelCol='Y house price of unit area')\n",
    "regressor=regressor.fit(train_data)"
   ]
  },
  {
   "cell_type": "code",
   "execution_count": 17,
   "metadata": {},
   "outputs": [
    {
     "data": {
      "text/plain": [
       "DenseVector([3.2356, -0.2643, -0.0037, 1.3783, 225.1655, 12.5918])"
      ]
     },
     "execution_count": 17,
     "metadata": {},
     "output_type": "execute_result"
    }
   ],
   "source": [
    "regressor.coefficients"
   ]
  },
  {
   "cell_type": "code",
   "execution_count": 18,
   "metadata": {},
   "outputs": [
    {
     "data": {
      "text/plain": [
       "-13625.227300668215"
      ]
     },
     "execution_count": 18,
     "metadata": {},
     "output_type": "execute_result"
    }
   ],
   "source": [
    "regressor.intercept"
   ]
  },
  {
   "cell_type": "code",
   "execution_count": 19,
   "metadata": {},
   "outputs": [],
   "source": [
    "trainingSummary = regressor.summary"
   ]
  },
  {
   "cell_type": "code",
   "execution_count": 20,
   "metadata": {},
   "outputs": [
    {
     "data": {
      "text/plain": [
       "1"
      ]
     },
     "execution_count": 20,
     "metadata": {},
     "output_type": "execute_result"
    }
   ],
   "source": [
    "trainingSummary.totalIterations"
   ]
  },
  {
   "cell_type": "code",
   "execution_count": 21,
   "metadata": {},
   "outputs": [
    {
     "data": {
      "text/plain": [
       "[0.0]"
      ]
     },
     "execution_count": 21,
     "metadata": {},
     "output_type": "execute_result"
    }
   ],
   "source": [
    "trainingSummary.objectiveHistory"
   ]
  },
  {
   "cell_type": "code",
   "execution_count": 22,
   "metadata": {},
   "outputs": [
    {
     "name": "stdout",
     "output_type": "stream",
     "text": [
      "+--------------------+\n",
      "|           residuals|\n",
      "+--------------------+\n",
      "|   3.821237825014393|\n",
      "|  -0.676643166968276|\n",
      "|   1.323356833031724|\n",
      "|   9.327812095723132|\n",
      "|  2.1078318076190072|\n",
      "| -1.3191061148045264|\n",
      "|   2.207321209834845|\n",
      "|-0.00762343692476...|\n",
      "|-0.01232589758837932|\n",
      "| -1.5898219884093123|\n",
      "|   2.231296532514534|\n",
      "| -10.552346194137499|\n",
      "| -2.6725803364748586|\n",
      "|  1.9253507006593296|\n",
      "|  -4.624336073016092|\n",
      "|  -1.183536342846125|\n",
      "|    4.44747592649037|\n",
      "|   2.727756858400241|\n",
      "| -0.6826307444840509|\n",
      "|   8.556653451519011|\n",
      "+--------------------+\n",
      "only showing top 20 rows\n",
      "\n"
     ]
    }
   ],
   "source": [
    "trainingSummary.residuals.show()"
   ]
  },
  {
   "cell_type": "code",
   "execution_count": 23,
   "metadata": {},
   "outputs": [
    {
     "data": {
      "text/plain": [
       "7.669689478376672"
      ]
     },
     "execution_count": 23,
     "metadata": {},
     "output_type": "execute_result"
    }
   ],
   "source": [
    "trainingSummary.rootMeanSquaredError"
   ]
  },
  {
   "cell_type": "code",
   "execution_count": 24,
   "metadata": {},
   "outputs": [
    {
     "data": {
      "text/plain": [
       "0.6415074995492672"
      ]
     },
     "execution_count": 24,
     "metadata": {},
     "output_type": "execute_result"
    }
   ],
   "source": [
    "trainingSummary.r2"
   ]
  },
  {
   "cell_type": "code",
   "execution_count": 25,
   "metadata": {},
   "outputs": [],
   "source": [
    "pred_results=regressor.evaluate(test_data)"
   ]
  },
  {
   "cell_type": "code",
   "execution_count": 26,
   "metadata": {},
   "outputs": [
    {
     "name": "stdout",
     "output_type": "stream",
     "text": [
      "+--------------------+--------------------------+------------------+\n",
      "|              Output|Y house price of unit area|        prediction|\n",
      "+--------------------+--------------------------+------------------+\n",
      "|[2012.667,0.0,185...|                      37.9| 39.17611496126665|\n",
      "|[2012.667,20.2,21...|                      22.8| 28.64486671024497|\n",
      "|[2012.667,29.4,45...|                      13.2|11.597690611764847|\n",
      "|[2012.667,34.5,62...|                      40.3| 40.01815651202196|\n",
      "|[2012.667,34.9,17...|                      39.7| 41.67490962941156|\n",
      "|[2012.75,0.0,208....|                      45.7| 44.35606501874099|\n",
      "|[2012.75,0.0,338....|                      50.8| 50.86612778115523|\n",
      "|[2012.75,7.8,104....|                      38.4| 43.70089188621023|\n",
      "|[2012.75,13.5,419...|                      18.6|13.598296433601718|\n",
      "|[2012.75,14.1,261...|                      21.8|23.576896131002286|\n",
      "+--------------------+--------------------------+------------------+\n",
      "only showing top 10 rows\n",
      "\n"
     ]
    }
   ],
   "source": [
    "pred_results.predictions.show(10)"
   ]
  },
  {
   "cell_type": "markdown",
   "metadata": {},
   "source": [
    "# Nous allons visualiser la différence entre les données réelles et leurs prédictions"
   ]
  },
  {
   "cell_type": "code",
   "execution_count": 27,
   "metadata": {},
   "outputs": [],
   "source": [
    "Y = pred_results.predictions.select('Y house price of unit area').toPandas()\n",
    "_Y = pred_results.predictions.select(\"prediction\").toPandas()"
   ]
  },
  {
   "cell_type": "code",
   "execution_count": 28,
   "metadata": {},
   "outputs": [
    {
     "data": {
      "text/plain": [
       "<matplotlib.axes._subplots.AxesSubplot at 0x178f173acc8>"
      ]
     },
     "execution_count": 28,
     "metadata": {},
     "output_type": "execute_result"
    },
    {
     "data": {
      "image/png": "[encoded data removed]",
      "text/plain": [
       "<Figure size 432x288 with 1 Axes>"
      ]
     },
     "metadata": {
      "needs_background": "light"
     },
     "output_type": "display_data"
    }
   ],
   "source": [
    "ax1 = sb.distplot(Y, hist=False, color=\"r\", label=\"Actual Values\")\n",
    "sb.distplot(_Y, hist=False, color=\"b\", label=\"Fitted Values\" , ax=ax1)"
   ]
  }
 ],
 "metadata": {
  "kernelspec": {
   "display_name": "Python 3",
   "language": "python",
   "name": "python3"
  },
  "language_info": {
   "codemirror_mode": {
    "name": "ipython",
    "version": 3
   },
   "file_extension": ".py",
   "mimetype": "text/x-python",
   "name": "python",
   "nbconvert_exporter": "python",
   "pygments_lexer": "ipython3",
   "version": "3.7.5"
  }
 },
 "nbformat": 4,
 "nbformat_minor": 2
}
